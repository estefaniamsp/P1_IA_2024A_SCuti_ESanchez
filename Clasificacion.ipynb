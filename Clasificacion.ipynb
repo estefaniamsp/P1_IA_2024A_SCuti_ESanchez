{
  "nbformat": 4,
  "nbformat_minor": 0,
  "metadata": {
    "colab": {
      "provenance": []
    },
    "kernelspec": {
      "name": "python3",
      "display_name": "Python 3"
    },
    "language_info": {
      "name": "python"
    }
  },
  "cells": [
    {
      "cell_type": "code",
      "execution_count": 9,
      "metadata": {
        "colab": {
          "base_uri": "https://localhost:8080/"
        },
        "id": "XS9Fq1xdkRlR",
        "outputId": "50b5161f-b675-440b-8fd3-4b1007eb10a6"
      },
      "outputs": [
        {
          "output_type": "stream",
          "name": "stdout",
          "text": [
            "[1 4 2 7 6 5 3]\n",
            "   hair  feathers  eggs  milk  airborne  aquatic  predator  toothed  backbone  \\\n",
            "0     1         0     0     1         0        0         1        1         1   \n",
            "1     1         0     0     1         0        0         0        1         1   \n",
            "2     0         0     1     0         0        1         1        1         1   \n",
            "3     1         0     0     1         0        0         1        1         1   \n",
            "4     1         0     0     1         0        0         1        1         1   \n",
            "\n",
            "   breathes  venomous  fins  legs  tail  domestic  class_type  \n",
            "0         1         0     0     4     0         0           1  \n",
            "1         1         0     0     4     1         0           1  \n",
            "2         0         0     1     0     1         0           4  \n",
            "3         1         0     0     4     0         0           1  \n",
            "4         1         0     0     4     1         0           1  \n",
            "             hair    feathers        eggs        milk    airborne     aquatic  \\\n",
            "count  101.000000  101.000000  101.000000  101.000000  101.000000  101.000000   \n",
            "mean     0.425743    0.198020    0.584158    0.405941    0.237624    0.356436   \n",
            "std      0.496921    0.400495    0.495325    0.493522    0.427750    0.481335   \n",
            "min      0.000000    0.000000    0.000000    0.000000    0.000000    0.000000   \n",
            "25%      0.000000    0.000000    0.000000    0.000000    0.000000    0.000000   \n",
            "50%      0.000000    0.000000    1.000000    0.000000    0.000000    0.000000   \n",
            "75%      1.000000    0.000000    1.000000    1.000000    0.000000    1.000000   \n",
            "max      1.000000    1.000000    1.000000    1.000000    1.000000    1.000000   \n",
            "\n",
            "         predator     toothed    backbone    breathes    venomous        fins  \\\n",
            "count  101.000000  101.000000  101.000000  101.000000  101.000000  101.000000   \n",
            "mean     0.554455    0.603960    0.821782    0.792079    0.079208    0.168317   \n",
            "std      0.499505    0.491512    0.384605    0.407844    0.271410    0.376013   \n",
            "min      0.000000    0.000000    0.000000    0.000000    0.000000    0.000000   \n",
            "25%      0.000000    0.000000    1.000000    1.000000    0.000000    0.000000   \n",
            "50%      1.000000    1.000000    1.000000    1.000000    0.000000    0.000000   \n",
            "75%      1.000000    1.000000    1.000000    1.000000    0.000000    0.000000   \n",
            "max      1.000000    1.000000    1.000000    1.000000    1.000000    1.000000   \n",
            "\n",
            "             legs        tail    domestic  class_type  \n",
            "count  101.000000  101.000000  101.000000  101.000000  \n",
            "mean     2.841584    0.742574    0.128713    2.831683  \n",
            "std      2.033385    0.439397    0.336552    2.102709  \n",
            "min      0.000000    0.000000    0.000000    1.000000  \n",
            "25%      2.000000    0.000000    0.000000    1.000000  \n",
            "50%      4.000000    1.000000    0.000000    2.000000  \n",
            "75%      4.000000    1.000000    0.000000    4.000000  \n",
            "max      8.000000    1.000000    1.000000    7.000000  \n"
          ]
        }
      ],
      "source": [
        "import pandas as pd\n",
        "datos=pd.read_csv(\"zoo.csv\")\n",
        "\n",
        "\n",
        "#Imprimir etiquetas\n",
        "datos = datos.drop('animal_name',axis=1)\n",
        "print(datos['class_type'].unique())\n",
        "etiquetas=datos['class_type'].unique()\n",
        "print(datos.head())\n",
        "print(datos.describe())\n",
        "\n",
        "\n"
      ]
    },
    {
      "cell_type": "code",
      "source": [
        "#Separar en conjuntos de caracteristicas y etiquetas (salida)\n",
        "x=datos.drop('class_type',axis=1)\n",
        "y=datos[['class_type']]"
      ],
      "metadata": {
        "id": "6op9I4VGlBVq"
      },
      "execution_count": 11,
      "outputs": []
    },
    {
      "cell_type": "code",
      "source": [
        "#Dividir los datos en conjunto de entrenamiento y prueba\n",
        "from sklearn.model_selection import train_test_split\n",
        "x_train,x_test,y_train,y_test=train_test_split(x,y,test_size=0.3,random_state=25)"
      ],
      "metadata": {
        "id": "VAwQdYXhmU3U"
      },
      "execution_count": 12,
      "outputs": []
    },
    {
      "cell_type": "code",
      "source": [
        "#Crear modelo vecinos cercanos\n",
        "from sklearn.tree import DecisionTreeClassifier\n",
        "modelo=DecisionTreeClassifier()"
      ],
      "metadata": {
        "id": "1qGjkSIFme3W"
      },
      "execution_count": 13,
      "outputs": []
    },
    {
      "cell_type": "code",
      "source": [
        "# Entrenar modelo\n",
        "modelo.fit(x_train,y_train)"
      ],
      "metadata": {
        "colab": {
          "base_uri": "https://localhost:8080/",
          "height": 75
        },
        "id": "Xf3T_ReVmuhC",
        "outputId": "70926d9b-80bf-4862-d312-bd5976259d7a"
      },
      "execution_count": 14,
      "outputs": [
        {
          "output_type": "execute_result",
          "data": {
            "text/plain": [
              "DecisionTreeClassifier()"
            ],
            "text/html": [
              "<style>#sk-container-id-1 {color: black;background-color: white;}#sk-container-id-1 pre{padding: 0;}#sk-container-id-1 div.sk-toggleable {background-color: white;}#sk-container-id-1 label.sk-toggleable__label {cursor: pointer;display: block;width: 100%;margin-bottom: 0;padding: 0.3em;box-sizing: border-box;text-align: center;}#sk-container-id-1 label.sk-toggleable__label-arrow:before {content: \"▸\";float: left;margin-right: 0.25em;color: #696969;}#sk-container-id-1 label.sk-toggleable__label-arrow:hover:before {color: black;}#sk-container-id-1 div.sk-estimator:hover label.sk-toggleable__label-arrow:before {color: black;}#sk-container-id-1 div.sk-toggleable__content {max-height: 0;max-width: 0;overflow: hidden;text-align: left;background-color: #f0f8ff;}#sk-container-id-1 div.sk-toggleable__content pre {margin: 0.2em;color: black;border-radius: 0.25em;background-color: #f0f8ff;}#sk-container-id-1 input.sk-toggleable__control:checked~div.sk-toggleable__content {max-height: 200px;max-width: 100%;overflow: auto;}#sk-container-id-1 input.sk-toggleable__control:checked~label.sk-toggleable__label-arrow:before {content: \"▾\";}#sk-container-id-1 div.sk-estimator input.sk-toggleable__control:checked~label.sk-toggleable__label {background-color: #d4ebff;}#sk-container-id-1 div.sk-label input.sk-toggleable__control:checked~label.sk-toggleable__label {background-color: #d4ebff;}#sk-container-id-1 input.sk-hidden--visually {border: 0;clip: rect(1px 1px 1px 1px);clip: rect(1px, 1px, 1px, 1px);height: 1px;margin: -1px;overflow: hidden;padding: 0;position: absolute;width: 1px;}#sk-container-id-1 div.sk-estimator {font-family: monospace;background-color: #f0f8ff;border: 1px dotted black;border-radius: 0.25em;box-sizing: border-box;margin-bottom: 0.5em;}#sk-container-id-1 div.sk-estimator:hover {background-color: #d4ebff;}#sk-container-id-1 div.sk-parallel-item::after {content: \"\";width: 100%;border-bottom: 1px solid gray;flex-grow: 1;}#sk-container-id-1 div.sk-label:hover label.sk-toggleable__label {background-color: #d4ebff;}#sk-container-id-1 div.sk-serial::before {content: \"\";position: absolute;border-left: 1px solid gray;box-sizing: border-box;top: 0;bottom: 0;left: 50%;z-index: 0;}#sk-container-id-1 div.sk-serial {display: flex;flex-direction: column;align-items: center;background-color: white;padding-right: 0.2em;padding-left: 0.2em;position: relative;}#sk-container-id-1 div.sk-item {position: relative;z-index: 1;}#sk-container-id-1 div.sk-parallel {display: flex;align-items: stretch;justify-content: center;background-color: white;position: relative;}#sk-container-id-1 div.sk-item::before, #sk-container-id-1 div.sk-parallel-item::before {content: \"\";position: absolute;border-left: 1px solid gray;box-sizing: border-box;top: 0;bottom: 0;left: 50%;z-index: -1;}#sk-container-id-1 div.sk-parallel-item {display: flex;flex-direction: column;z-index: 1;position: relative;background-color: white;}#sk-container-id-1 div.sk-parallel-item:first-child::after {align-self: flex-end;width: 50%;}#sk-container-id-1 div.sk-parallel-item:last-child::after {align-self: flex-start;width: 50%;}#sk-container-id-1 div.sk-parallel-item:only-child::after {width: 0;}#sk-container-id-1 div.sk-dashed-wrapped {border: 1px dashed gray;margin: 0 0.4em 0.5em 0.4em;box-sizing: border-box;padding-bottom: 0.4em;background-color: white;}#sk-container-id-1 div.sk-label label {font-family: monospace;font-weight: bold;display: inline-block;line-height: 1.2em;}#sk-container-id-1 div.sk-label-container {text-align: center;}#sk-container-id-1 div.sk-container {/* jupyter's `normalize.less` sets `[hidden] { display: none; }` but bootstrap.min.css set `[hidden] { display: none !important; }` so we also need the `!important` here to be able to override the default hidden behavior on the sphinx rendered scikit-learn.org. See: https://github.com/scikit-learn/scikit-learn/issues/21755 */display: inline-block !important;position: relative;}#sk-container-id-1 div.sk-text-repr-fallback {display: none;}</style><div id=\"sk-container-id-1\" class=\"sk-top-container\"><div class=\"sk-text-repr-fallback\"><pre>DecisionTreeClassifier()</pre><b>In a Jupyter environment, please rerun this cell to show the HTML representation or trust the notebook. <br />On GitHub, the HTML representation is unable to render, please try loading this page with nbviewer.org.</b></div><div class=\"sk-container\" hidden><div class=\"sk-item\"><div class=\"sk-estimator sk-toggleable\"><input class=\"sk-toggleable__control sk-hidden--visually\" id=\"sk-estimator-id-1\" type=\"checkbox\" checked><label for=\"sk-estimator-id-1\" class=\"sk-toggleable__label sk-toggleable__label-arrow\">DecisionTreeClassifier</label><div class=\"sk-toggleable__content\"><pre>DecisionTreeClassifier()</pre></div></div></div></div></div>"
            ]
          },
          "metadata": {},
          "execution_count": 14
        }
      ]
    },
    {
      "cell_type": "code",
      "source": [
        "#Realizar predicciones con los datos de prueba\n",
        "y_obt=modelo.predict(x_test)"
      ],
      "metadata": {
        "id": "lbRUPdWdnISV"
      },
      "execution_count": 15,
      "outputs": []
    },
    {
      "cell_type": "code",
      "source": [
        "#Metricas de evaluacion\n",
        "from sklearn.metrics import accuracy_score, confusion_matrix\n",
        "exactitud = accuracy_score(y_test, y_obt)\n",
        "print(\"La exactitud es: \", exactitud)\n",
        "matriz_conf = confusion_matrix(y_test,y_obt)\n",
        "\n",
        "#Mapa de calor de la matriz de confusion\n",
        "import seaborn as sns\n",
        "import matplotlib.pyplot as plt\n",
        "sns.heatmap(matriz_conf,annot=True, fmt='d', cmap=\"Blues\",xticklabels=etiquetas,yticklabels=etiquetas)\n",
        "plt.show()"
      ],
      "metadata": {
        "colab": {
          "base_uri": "https://localhost:8080/",
          "height": 447
        },
        "id": "Zf8wNlqPni7L",
        "outputId": "1d085435-4667-43fa-f3bb-fdd6c1ede44d"
      },
      "execution_count": 16,
      "outputs": [
        {
          "output_type": "stream",
          "name": "stdout",
          "text": [
            "La exactitud es:  0.8709677419354839\n"
          ]
        },
        {
          "output_type": "display_data",
          "data": {
            "text/plain": [
              "<Figure size 640x480 with 2 Axes>"
            ],
            "image/png": "[encoded data removed]"
          },
          "metadata": {}
        }
      ]
    },
    {
      "cell_type": "code",
      "source": [
        "\n",
        "animal = [\n",
        "     \"Mamifero\",\n",
        "     \"Ave\",\n",
        "     \"Reptil\",\n",
        "     \"Pez\",\n",
        "     \"Anfibio\",\n",
        "     \"Insecto\",\n",
        "     \"Invertebrado\"\n",
        "]"
      ],
      "metadata": {
        "id": "Ccoc0Tqok-ZF"
      },
      "execution_count": 41,
      "outputs": []
    },
    {
      "cell_type": "code",
      "source": [
        "#Prediccion con un nuevo valor\n",
        "#SERPIENTE\n",
        "especie=modelo.predict([[0,0,1,0,0,1,1,1,0,1,1,0,0,1,0]])\n",
        "an = int(especie)\n",
        "\n",
        "name = animal[an-1]\n",
        "\n",
        "print(\"La especie es: \",especie, name)"
      ],
      "metadata": {
        "colab": {
          "base_uri": "https://localhost:8080/"
        },
        "id": "4OD2hyhwoMhs",
        "outputId": "41606eda-4bd9-4197-c970-800d96796145"
      },
      "execution_count": 42,
      "outputs": [
        {
          "output_type": "stream",
          "name": "stdout",
          "text": [
            "La especie es:  [7] Invertebrado\n"
          ]
        },
        {
          "output_type": "stream",
          "name": "stderr",
          "text": [
            "/usr/local/lib/python3.10/dist-packages/sklearn/base.py:439: UserWarning: X does not have valid feature names, but DecisionTreeClassifier was fitted with feature names\n",
            "  warnings.warn(\n",
            "<ipython-input-42-73a5dc8d7a9c>:4: DeprecationWarning: Conversion of an array with ndim > 0 to a scalar is deprecated, and will error in future. Ensure you extract a single element from your array before performing this operation. (Deprecated NumPy 1.25.)\n",
            "  an = int(especie)\n"
          ]
        }
      ]
    },
    {
      "cell_type": "code",
      "source": [
        "#Importancia de las caracteristicas SOLO arbol de decisión\n",
        "importancia=modelo.feature_importances_\n",
        "caracteristicas=datos.columns.tolist()\n",
        "\n",
        "for j,k in zip(caracteristicas,importancia):\n",
        "  print(j, \": \",k)"
      ],
      "metadata": {
        "colab": {
          "base_uri": "https://localhost:8080/"
        },
        "id": "j59NUe7JrZfO",
        "outputId": "411ba83e-bc07-4b68-996d-665be4f8bc6f"
      },
      "execution_count": 43,
      "outputs": [
        {
          "output_type": "stream",
          "name": "stdout",
          "text": [
            "hair :  0.0\n",
            "feathers :  0.2198638724699981\n",
            "eggs :  0.02821063944116067\n",
            "milk :  0.3865305391366651\n",
            "airborne :  0.0\n",
            "aquatic :  0.12654486835034928\n",
            "predator :  0.0\n",
            "toothed :  0.0\n",
            "backbone :  0.07978000442519836\n",
            "breathes :  0.0\n",
            "venomous :  0.0\n",
            "fins :  0.1590700761766287\n",
            "legs :  0.0\n",
            "tail :  0.0\n",
            "domestic :  0.0\n"
          ]
        }
      ]
    }
  ]
}